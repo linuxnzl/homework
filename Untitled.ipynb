{
 "cells": [
  {
   "cell_type": "code",
   "execution_count": 20,
   "metadata": {
    "collapsed": false,
    "deletable": true,
    "editable": true,
    "scrolled": false
   },
   "outputs": [
    {
     "name": "stdout",
     "output_type": "stream",
     "text": [
      "14\n",
      "[14]\n",
      "[]\n"
     ]
    }
   ],
   "source": [
    "for i in range(15):\n",
    "    list_1=[i]\n",
    "list_1\n",
    "\n",
    "for j in range(0,len(list_1)):\n",
    "    for k in range(j+1,len(list_1)):\n",
    "        a = int(list_1[j])\n",
    "        b = int(list_1[k])\n",
    "        if a<b:\n",
    "            list_1[j]=list_1[k]\n",
    "            list_1[k]=a\n",
    "#求最大值            \n",
    "max_list=list_1[0]  \n",
    "print(max_list)\n",
    "\n",
    "#求最大的3个值\n",
    "print(list_1[0:3])\n",
    "\n",
    "#求最小的3个值\n",
    "print(list_1[-1:-4])"
   ]
  },
  {
   "cell_type": "code",
   "execution_count": null,
   "metadata": {
    "collapsed": true
   },
   "outputs": [],
   "source": [
    "    \n",
    "\n"
   ]
  }
 ],
 "metadata": {
  "kernelspec": {
   "display_name": "Python 3",
   "language": "python",
   "name": "python3"
  },
  "language_info": {
   "codemirror_mode": {
    "name": "ipython",
    "version": 3
   },
   "file_extension": ".py",
   "mimetype": "text/x-python",
   "name": "python",
   "nbconvert_exporter": "python",
   "pygments_lexer": "ipython3",
   "version": "3.5.2"
  }
 },
 "nbformat": 4,
 "nbformat_minor": 2
}
